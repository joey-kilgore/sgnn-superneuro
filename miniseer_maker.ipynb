{
 "cells": [
  {
   "cell_type": "code",
   "execution_count": null,
   "metadata": {},
   "outputs": [],
   "source": [
    "import copy\n",
    "import string\n",
    "import numpy as np\n",
    "import pandas as pd\n",
    "import pathlib as pl\n",
    "import itertools as it\n",
    "from typing import Callable\n",
    "from dataclasses import dataclass, field\n",
    "\n",
    "\n",
    "WRITEOUT_OKAY = False"
   ]
  },
  {
   "cell_type": "code",
   "execution_count": 100,
   "metadata": {},
   "outputs": [],
   "source": [
    "\n",
    "def train_test_split_indices(papers, test_size=0.2, rng=None) -> tuple[np.ndarray[int], np.ndarray[int]]:\n",
    "    \"\"\"\n",
    "    Splits a list of papers into train and test indices.\n",
    "\n",
    "    Parameters\n",
    "    ----------\n",
    "    papers : iterable of papers with ids\n",
    "        List or dict of papers to split.\n",
    "    test_size : float, optional\n",
    "        if < 1, proportion of papers to reserve for testing, by default 0.2\n",
    "        if > 1, number of papers to reserve for testing\n",
    "    rng : int, optional\n",
    "        Random state for the random number generator, default uses numpy's random\n",
    "\n",
    "    Returns\n",
    "    -------\n",
    "    train_indices : list of int\n",
    "        List of indices for the training set.\n",
    "    test_indices : list of int\n",
    "        List of indices for the testing set.\n",
    "    \"\"\"\n",
    "    n = papers if isinstance(papers, int) else len(papers)\n",
    "    if test_size < 1:\n",
    "        test_size = int(np.floor(test_size * n))  # number of papers in test\n",
    "    if rng is None:\n",
    "        rng = np.random.default_rng()  # setup rng\n",
    "    elif isinstance(rng, int):\n",
    "        rng = np.random.default_rng(rng)\n",
    "\n",
    "    if isinstance(papers, int):\n",
    "        indices = np.arange(n)  # generate indices\n",
    "    elif isinstance(papers, dict):\n",
    "        indices = [paper.idx for paper in papers.values()]  # grab indices from dict entries\n",
    "    else:  # assume papers is a dict or mapping of papers with a .values() method\n",
    "        indices = papers  # assume papers is a list of indices\n",
    "    indices = np.asarray(indices)\n",
    "\n",
    "    # shuffle and split\n",
    "    rng.shuffle(indices)\n",
    "    test_indices = indices[:test_size]\n",
    "    train_indices = indices[test_size:]\n",
    "    return train_indices, test_indices"
   ]
  },
  {
   "cell_type": "code",
   "execution_count": 101,
   "metadata": {},
   "outputs": [
    {
     "name": "stdout",
     "output_type": "stream",
     "text": [
      "Loaded 3312 papers and skipped 15 broken references.\n"
     ]
    },
    {
     "data": {
      "text/plain": [
       "{'AI', 'Agents', 'DB', 'HCI', 'IR', 'ML'}"
      ]
     },
     "execution_count": 101,
     "metadata": {},
     "output_type": "execute_result"
    }
   ],
   "source": [
    "@dataclass\n",
    "class Paper:\n",
    "    idx: str  # Paper ID\n",
    "    label: str  # Paper category/topic\n",
    "    features: tuple[bool, ...] = ()  # binary features\n",
    "    citations: list[str] = field(default_factory=list)  # IDs of papers cited by this paper\n",
    "\n",
    "\n",
    "papers = {}\n",
    "missing = set()\n",
    "\n",
    "# Load in training data\n",
    "content = pd.read_csv(\"data/citeseer/citeseer.content\", sep=\"\\t\", header=None, dtype=object)\n",
    "citations = pd.read_csv(\"data/citeseer/citeseer.cites\", sep=\"\\t\", header=None, dtype=object)\n",
    "\n",
    "labels = set()  # set of unique labels\n",
    "\n",
    "for paper in content.itertuples(index=False):  # create papers from data\n",
    "    # if paper[-1] == 'IR':\n",
    "    #     continue\n",
    "    idx = paper[0]\n",
    "    features = tuple([int(feature) for feature in paper[1:-1]])  # parse features\n",
    "    papers[idx] = Paper(idx, paper[-1], features)  # create paper object\n",
    "    labels.add(paper[-1])  # label is the last column. add to set of labels\n",
    "\n",
    "for paper_idx, citation in citations.itertuples(index=False):\n",
    "    try:  # parse citations\n",
    "        if citation not in papers:\n",
    "            missing.add(citation)  # if citation is missing, add to missing list\n",
    "            continue\n",
    "        papers[paper_idx].citations.append(citation)\n",
    "    except KeyError:\n",
    "        missing.add(paper_idx)  # if paper is missing, add to missing list\n",
    "\n",
    "print(f\"Loaded {len(papers)} papers and skipped {len(missing)} broken references.\")\n",
    "all_papers = copy.deepcopy(papers)\n",
    "\n",
    "labels  # show labels set"
   ]
  },
  {
   "cell_type": "code",
   "execution_count": 102,
   "metadata": {},
   "outputs": [],
   "source": [
    "def components_undirected(papers):\n",
    "\n",
    "    components = []\n",
    "\n",
    "    for idx, paper in papers.items():\n",
    "        new_component = {idx}  # new set\n",
    "        new_component.update(paper.citations)  # add its citations\n",
    "        matching_sets = [c for c in components if c & new_component]  # find existing components with overlap\n",
    "        new_component = new_component.union(*matching_sets)  # merge overlapping components\n",
    "        for s in matching_sets:  # remove any old overlapping components\n",
    "            components.remove(s)\n",
    "        components.append(new_component)  # add our new component\n",
    "\n",
    "    return components"
   ]
  },
  {
   "cell_type": "code",
   "execution_count": 103,
   "metadata": {},
   "outputs": [
    {
     "name": "stdout",
     "output_type": "stream",
     "text": [
      "[2110, 18, 17, 15, 13, 12, 12, 11, 10, 10, 9, 9, 9, 9, 9, 8, 8, 8, 8, 7, 7, 7, 7, 7, 6, 6, 6, 6, 6, 6, 6, 5, 5, 5, 5, 5, 5, 5, 5, 5, 5, 4, 4, 4, 4, 4, 4, 4, 4, 4, 4, 4, 4, 4, 4, 4, 4, 4, 4, 4, 4, 4, 4, 4, 4, 4, 4, 4, 4, 4, 4, 4, 4, 4, 4, 4, 4, 4, 3, 3, 3, 3, 3, 3, 3, 3, 3, 3, 3, 3, 3, 3, 3, 3, 3, 3, 3, 3, 3, 3, 3, 3, 3, 3, 3, 3, 3, 3, 3, 3, 3, 3, 3, 3, 3, 3, 3, 3, 3, 3, 3, 3, 3, 3, 3, 3, 3, 3, 3, 3, 3, 3, 3, 3, 3, 3, 3, 3, 2, 2, 2, 2, 2, 2, 2, 2, 2, 2, 2, 2, 2, 2, 2, 2, 2, 2, 2, 2, 2, 2, 2, 2, 2, 2, 2, 2, 2, 2, 2, 2, 2, 2, 2, 2, 2, 2, 2, 2, 2, 2, 2, 2, 2, 2, 2, 2, 2, 2, 2, 2, 2, 2, 2, 2, 2, 2, 2, 2, 2, 2, 2, 2, 2, 2, 2, 2, 2, 2, 2, 2, 2, 2, 2, 2, 2, 2, 2, 2, 2, 2, 2, 2, 2, 2, 2, 2, 2, 2, 2, 2, 2, 2, 2, 2, 2, 2, 2, 2, 2, 2, 2, 2, 2, 2, 2, 2, 2, 2, 2, 2, 2, 2, 2, 2, 2, 2, 2, 2, 2, 2, 2, 2, 2, 2, 2, 2, 2, 2, 2, 2, 2, 2, 2, 2, 2, 2, 2, 2, 2, 2, 2, 2, 2, 2, 2, 2, 2, 2, 2, 2, 2, 2, 2, 2, 2, 2, 2, 2, 2, 2, 2, 2, 2, 2, 2, 2, 2, 2, 2, 2, 2, 2, 2, 2, 2, 2, 2, 2, 2, 2, 2, 2, 2, 2, 2, 2, 2, 2, 2, 2, 2, 2, 2, 2, 2, 2, 2, 2, 2, 2, 2, 2, 2, 2, 2, 2, 2, 2, 2, 2, 2, 2, 2, 2, 2, 2, 2, 2, 2, 2, 2, 2, 2, 2, 2, 2, 2, 2, 2, 2, 2, 2, 2, 2, 2, 2, 2, 2, 2, 2, 2, 2, 2, 2, 2, 2, 2, 2, 2, 2, 1, 1, 1, 1, 1, 1, 1, 1, 1, 1, 1, 1, 1, 1, 1, 1, 1, 1, 1, 1, 1, 1, 1, 1, 1, 1, 1, 1, 1, 1, 1, 1, 1, 1, 1, 1, 1, 1, 1, 1, 1, 1, 1, 1, 1, 1, 1, 1]\n",
      "Found 438 components, the largest has 2110 papers\n"
     ]
    }
   ],
   "source": [
    "components = sorted(components_undirected(papers), key=len, reverse=True)\n",
    "largest = components[0]\n",
    "\n",
    "print([len(c) for c in components])\n",
    "print(f\"Found {len(components)} components, the largest has {len(largest)} papers\")"
   ]
  },
  {
   "cell_type": "code",
   "execution_count": 104,
   "metadata": {},
   "outputs": [],
   "source": [
    "def writeout(papers, path_stem, train_idxs=None, test_idxs=None, metadata=''):\n",
    "    if not WRITEOUT_OKAY:\n",
    "        return\n",
    "    path = pl.Path(path_stem)\n",
    "    if path.is_dir():\n",
    "        raise ValueError(f\"{path} is a directory\")\n",
    "    path.parent.mkdir(parents=True, exist_ok=True)\n",
    "    with open(path.with_suffix('.content'), 'w') as f:\n",
    "        for paper in papers.values():\n",
    "            features = [str(int(feature)) for feature in paper.features]\n",
    "            features = '\\t'.join(features)\n",
    "            f.write(f\"{paper.idx:s}\\t{features}\\t{paper.label:s}\\n\")\n",
    "    with open(path.with_suffix('.cites'), 'w') as f:\n",
    "        for paper in papers.values():\n",
    "            for cite in paper.citations:\n",
    "                f.write(f\"{paper.idx:s}\\t{cite:s}\\n\")\n",
    "    if train_idxs is not None and test_idxs is not None:\n",
    "        train_idxs = [str(idx) for idx in train_idxs]\n",
    "        test_idxs = [str(idx) for idx in test_idxs]\n",
    "        with open(path.with_suffix('.indices'), 'w') as f:\n",
    "            f.write(f\"training_indices {len(train_idxs)} \\\\n test_indices {len(test_idxs)}\\t{metadata}\\n\")\n",
    "            f.write(', '.join(train_idxs))\n",
    "            f.write('\\n' + ', '.join(test_idxs))\n"
   ]
  },
  {
   "cell_type": "code",
   "execution_count": 105,
   "metadata": {},
   "outputs": [],
   "source": [
    "def remove_broken_citations(papers):\n",
    "    removed = set()\n",
    "    for paper in papers.values():\n",
    "        to_remove = []\n",
    "        for citation in paper.citations:\n",
    "            if citation not in papers:\n",
    "                removed.add(citation)\n",
    "                to_remove.append(citation)\n",
    "        for citation in to_remove:\n",
    "            paper.citations.remove(citation)\n",
    "    return removed\n",
    "\n",
    "\n",
    "def rebuild(papers, ids):\n",
    "    new_papers = {k: v for k, v in papers.items() if k in ids}\n",
    "    removed_citations = remove_broken_citations(new_papers)\n",
    "    return new_papers, removed_citations"
   ]
  },
  {
   "cell_type": "code",
   "execution_count": 106,
   "metadata": {},
   "outputs": [],
   "source": [
    "def how_many(papers, train_idxs=None, do_print=True):\n",
    "    def printif(*args, **kwargs):\n",
    "        if do_print:\n",
    "            print(*args, **kwargs)\n",
    "\n",
    "    n_papers = len(papers)\n",
    "    n_citations = sum([len(paper.citations) for paper in papers.values()])\n",
    "    n_topics = len(set(paper.label for paper in papers.values()))\n",
    "    printif(f\"Papers: {n_papers}, Citations: {n_citations}, Topics: {n_topics}\")\n",
    "    neurons = n_papers + n_topics\n",
    "    if train_idxs is None:\n",
    "        printif(f\"NEST-like implementation will use {neurons} neurons\")\n",
    "        return n_papers, n_citations, n_topics, neurons, None, None, None\n",
    "    else:\n",
    "        n_train, n_test = len(train_idxs), n_papers - len(train_idxs)\n",
    "        synapses = n_citations * 2 + n_test * n_topics * 2 + n_train * 2\n",
    "        printif(f\"NEST-like implementation will use {neurons} neurons, {synapses} synapses\")\n",
    "        # printif(f\"K implementation will use {n_papers + n_topics} neurons, {n_citations + n_papers} synapses\")\n",
    "        printif(f\"Train: {n_train}, Test: {n_test} ({n_train / n_papers:.2f}:{n_test / n_papers:.2f})\")\n",
    "        return n_papers, n_citations, n_topics, neurons, synapses, n_train, n_test\n"
   ]
  },
  {
   "cell_type": "code",
   "execution_count": null,
   "metadata": {},
   "outputs": [],
   "source": [
    "@dataclass\n",
    "class BiPaper(Paper):\n",
    "    cited_by: list[str | int] = field(default_factory=list)\n",
    "\n",
    "    def as_paper(self):\n",
    "        return Paper(self.idx, self.label, self.features, self.citations)\n",
    "\n",
    "\n",
    "def spider_papers(\n",
    "    papers: dict,\n",
    "    max_n: int,\n",
    "    seed: int | str | Paper | None = None,\n",
    "    rng: np.random.Generator | int | None = None,\n",
    "    citation_filter: Callable[[BiPaper, str | int, str], bool] | None = None,\n",
    "    directed=False,\n",
    "):\n",
    "    \"\"\"Create a new connected graph of papers\"\"\"\n",
    "\n",
    "    if rng is None:\n",
    "        rng = np.random.default_rng()  # setup rng\n",
    "    elif isinstance(rng, int):\n",
    "        rng = np.random.default_rng(rng)\n",
    "\n",
    "    seed = rng.choice(list(papers)) if seed is None else seed\n",
    "    new_papers: dict[str | int, BiPaper] = {}\n",
    "    # A paper is terminal if all its citations are in new_papers\n",
    "    terminals = set()\n",
    "\n",
    "    def is_terminal(paper):\n",
    "        if isinstance(paper, (str, int)):\n",
    "            paper: BiPaper = new_papers[paper]\n",
    "        if not paper.citations and not paper.cited_by:\n",
    "            return True\n",
    "        return all(c in new_papers for c in paper.citations) and all(c in new_papers for c in paper.cited_by)\n",
    "\n",
    "    def add_paper(paper: str | int | Paper | BiPaper):\n",
    "        if isinstance(paper, (str, int)):\n",
    "            paper: Paper = papers[paper]\n",
    "        cited_by = [] if directed else [other.idx for other in papers.values() if paper.idx in other.citations]\n",
    "        citations = [*paper.citations]  # copy\n",
    "        if citation_filter:\n",
    "            citations = [c for c in citations if citation_filter(paper, c, '')]\n",
    "            cited_by = [c for c in cited_by if citation_filter(paper, c, 'cited_by')]\n",
    "        new_papers[paper.idx] = new = BiPaper(paper.idx, paper.label, paper.features, citations, cited_by)\n",
    "        return new\n",
    "\n",
    "    paper = add_paper(seed)\n",
    "    if is_terminal(paper):\n",
    "        return new_papers\n",
    "\n",
    "    while len(new_papers) < max_n:\n",
    "        pool = set(new_papers) - terminals\n",
    "        if not pool:\n",
    "            break\n",
    "        paper = new_papers[rng.choice(list(pool))]\n",
    "        if is_terminal(paper):\n",
    "            terminals.add(paper.idx)\n",
    "            continue\n",
    "        candidates = set(paper.citations) | set(paper.cited_by) - terminals\n",
    "        assert candidates\n",
    "        new_paper = add_paper(rng.choice(list(candidates)))\n",
    "        if is_terminal(new_paper):\n",
    "            terminals.add(new_paper.idx)\n",
    "\n",
    "    return {k: v.as_paper() for k, v in new_papers.items()}\n"
   ]
  },
  {
   "cell_type": "code",
   "execution_count": 108,
   "metadata": {},
   "outputs": [
    {
     "name": "stdout",
     "output_type": "stream",
     "text": [
      "Original dataset:\n",
      "Papers: 3312, Citations: 4715, Topics: 6\n",
      "NEST-like implementation will use 3318 neurons, 42544 synapses\n",
      "Train: 663, Test: 2649 (0.20:0.80)\n",
      "\n",
      "Miniseer:\n",
      "Papers: 2110, Citations: 3757, Topics: 6\n",
      "NEST-like implementation will use 2116 neurons, 28614 synapses\n",
      "Train: 422, Test: 1688 (0.20:0.80)\n",
      "[2110]\n",
      "Found 1 components, the largest has 2110 papers\n",
      "\n",
      "Microseer:\n",
      "Papers: 87, Citations: 156, Topics: 6\n",
      "NEST-like implementation will use 93 neurons, 1176 synapses\n",
      "Train: 18, Test: 69 (0.21:0.79)\n",
      "[87]\n",
      "Found 1 components, the largest has 87 papers\n",
      "Removed 126 broken citations\n"
     ]
    }
   ],
   "source": [
    "seed = 789879\n",
    "\n",
    "# === Original dataset ===\n",
    "train_idxs, test_idxs = train_test_split_indices(papers, test_size=0.8, rng=seed)\n",
    "print(\"Original dataset:\")\n",
    "how_many(papers, train_idxs)\n",
    "\n",
    "# === Miniseer ===\n",
    "miniseer, removed = rebuild(papers, largest)\n",
    "assert not removed\n",
    "m_train_idxs, m_test_idxs = train_test_split_indices(miniseer, test_size=0.8, rng=seed)\n",
    "writeout(miniseer, 'data/miniseer/miniseer', m_train_idxs, m_test_idxs, f\"seed: {seed}\")\n",
    "\n",
    "print(\"\\nMiniseer:\")\n",
    "how_many(miniseer, m_train_idxs)\n",
    "minicomponents = sorted(components_undirected(miniseer), key=len, reverse=True)\n",
    "minilargest = minicomponents[0]\n",
    "print([len(c) for c in minicomponents])\n",
    "print(f\"Found {len(minicomponents)} components, the largest has {len(minilargest)} papers\")\n",
    "\n",
    "# === Microseer ===\n",
    "microseer = spider_papers(miniseer, 87, rng=seed, seed='horrocks98using')\n",
    "removed = remove_broken_citations(microseer)\n",
    "u_train_idxs, u_test_idxs = train_test_split_indices(microseer, test_size=0.8, rng=seed)\n",
    "writeout(microseer, 'data/microseer/microseer', u_train_idxs, u_test_idxs, f\"seed: {seed}\")\n",
    "# STATS\n",
    "print(\"\\nMicroseer:\")\n",
    "how_many(microseer, u_train_idxs)\n",
    "microcomponents = sorted(components_undirected(microseer), key=len, reverse=True)\n",
    "microlargest = microcomponents[0]\n",
    "print([len(c) for c in microcomponents])\n",
    "print(f\"Found {len(microcomponents)} components, the largest has {len(microlargest)} papers\")\n",
    "print(f\"Removed {len(removed)} broken citations\")"
   ]
  },
  {
   "cell_type": "code",
   "execution_count": 109,
   "metadata": {},
   "outputs": [
    {
     "data": {
      "text/plain": [
       "['craven98learning', 'horrocks98using']"
      ]
     },
     "execution_count": 109,
     "metadata": {},
     "output_type": "execute_result"
    }
   ],
   "source": [
    "by_cited_cats = {}\n",
    "\n",
    "for paper in miniseer.values():\n",
    "    cite_categories = set(papers[other].label for other in paper.citations)\n",
    "    by_cited_cats[paper.idx] = cite_categories\n",
    "\n",
    "list(filter(lambda k: len(by_cited_cats[k]) > 4, by_cited_cats))"
   ]
  },
  {
   "cell_type": "code",
   "execution_count": 110,
   "metadata": {},
   "outputs": [],
   "source": [
    "def topics_counts(papers, labels=(), rekey=string.ascii_uppercase):\n",
    "    if labels and isinstance(labels, str):\n",
    "        labels = labels.split(' vs. ')\n",
    "    if labels:\n",
    "        rename_to = {label: letter for label, letter in zip(labels, rekey)}\n",
    "\n",
    "    topics_count = {}\n",
    "    for paper in papers.values():\n",
    "        key = rename_to[paper.label] if labels else paper.label\n",
    "        topics_count[key] = topics_count.get(key, 0) + 1\n",
    "    return topics_count"
   ]
  },
  {
   "cell_type": "code",
   "execution_count": 111,
   "metadata": {},
   "outputs": [
    {
     "data": {
      "application/vnd.microsoft.datawrangler.viewer.v0+json": {
       "columns": [
        {
         "name": "index",
         "rawType": "object",
         "type": "string"
        },
        {
         "name": "AI",
         "rawType": "int64",
         "type": "integer"
        },
        {
         "name": "Agents",
         "rawType": "int64",
         "type": "integer"
        },
        {
         "name": "DB",
         "rawType": "int64",
         "type": "integer"
        },
        {
         "name": "HCI",
         "rawType": "int64",
         "type": "integer"
        },
        {
         "name": "IR",
         "rawType": "int64",
         "type": "integer"
        },
        {
         "name": "ML",
         "rawType": "int64",
         "type": "integer"
        }
       ],
       "conversionMethod": "pd.DataFrame",
       "ref": "37c4d312-42c5-4e31-a1ca-833ec26b8b7c",
       "rows": [
        [
         "original",
         "249",
         "596",
         "701",
         "508",
         "668",
         "590"
        ],
        [
         "miniseer",
         "115",
         "463",
         "388",
         "304",
         "532",
         "308"
        ],
        [
         "microseer",
         "8",
         "50",
         "18",
         "5",
         "4",
         "2"
        ]
       ],
       "shape": {
        "columns": 6,
        "rows": 3
       }
      },
      "text/html": [
       "<div>\n",
       "<style scoped>\n",
       "    .dataframe tbody tr th:only-of-type {\n",
       "        vertical-align: middle;\n",
       "    }\n",
       "\n",
       "    .dataframe tbody tr th {\n",
       "        vertical-align: top;\n",
       "    }\n",
       "\n",
       "    .dataframe thead th {\n",
       "        text-align: right;\n",
       "    }\n",
       "</style>\n",
       "<table border=\"1\" class=\"dataframe\">\n",
       "  <thead>\n",
       "    <tr style=\"text-align: right;\">\n",
       "      <th></th>\n",
       "      <th>AI</th>\n",
       "      <th>Agents</th>\n",
       "      <th>DB</th>\n",
       "      <th>HCI</th>\n",
       "      <th>IR</th>\n",
       "      <th>ML</th>\n",
       "    </tr>\n",
       "  </thead>\n",
       "  <tbody>\n",
       "    <tr>\n",
       "      <th>original</th>\n",
       "      <td>249</td>\n",
       "      <td>596</td>\n",
       "      <td>701</td>\n",
       "      <td>508</td>\n",
       "      <td>668</td>\n",
       "      <td>590</td>\n",
       "    </tr>\n",
       "    <tr>\n",
       "      <th>miniseer</th>\n",
       "      <td>115</td>\n",
       "      <td>463</td>\n",
       "      <td>388</td>\n",
       "      <td>304</td>\n",
       "      <td>532</td>\n",
       "      <td>308</td>\n",
       "    </tr>\n",
       "    <tr>\n",
       "      <th>microseer</th>\n",
       "      <td>8</td>\n",
       "      <td>50</td>\n",
       "      <td>18</td>\n",
       "      <td>5</td>\n",
       "      <td>4</td>\n",
       "      <td>2</td>\n",
       "    </tr>\n",
       "  </tbody>\n",
       "</table>\n",
       "</div>"
      ],
      "text/plain": [
       "            AI  Agents   DB  HCI   IR   ML\n",
       "original   249     596  701  508  668  590\n",
       "miniseer   115     463  388  304  532  308\n",
       "microseer    8      50   18    5    4    2"
      ]
     },
     "execution_count": 111,
     "metadata": {},
     "output_type": "execute_result"
    }
   ],
   "source": [
    "import seaborn as sns\n",
    "import matplotlib.pyplot as plt\n",
    "import matplotlib as mpl\n",
    "\n",
    "categories = pd.DataFrame({\n",
    "    'original': pd.Series(topics_counts(papers)),\n",
    "    'miniseer': pd.Series(topics_counts(miniseer)),\n",
    "    'microseer': pd.Series(topics_counts(microseer)),\n",
    "}).T\n",
    "\n",
    "categories"
   ]
  },
  {
   "cell_type": "code",
   "execution_count": 112,
   "metadata": {},
   "outputs": [
    {
     "data": {
      "text/plain": [
       "<Axes: xlabel='topic', ylabel='count'>"
      ]
     },
     "execution_count": 112,
     "metadata": {},
     "output_type": "execute_result"
    },
    {
     "data": {
      "application/vnd.jupyter.widget-view+json": {
       "model_id": "7a173d60b7b9455ca8cd90dd4418f239",
       "version_major": 2,
       "version_minor": 0
      },
      "image/png": "[encoded data removed]",
      "text/html": [
       "\n",
       "            <div style=\"display: inline-block;\">\n",
       "                <div class=\"jupyter-widgets widget-label\" style=\"text-align: center;\">\n",
       "                    Figure\n",
       "                </div>\n",
       "                <img src='data:image/png;base64,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' width=640.0/>\n",
       "            </div>\n",
       "        "
      ],
      "text/plain": [
       "Canvas(toolbar=Toolbar(toolitems=[('Home', 'Reset original view', 'home', 'home'), ('Back', 'Back to previous …"
      ]
     },
     "metadata": {},
     "output_type": "display_data"
    }
   ],
   "source": [
    "def todf(papers, name):\n",
    "    df = pd.DataFrame([{'name': paper.idx, 'topic': paper.label, 'citations': len(paper.citations)} for paper in papers.values()])\n",
    "    df['dataset'] = name\n",
    "    return df\n",
    "\n",
    "\n",
    "data = pd.concat([\n",
    "    todf(papers, 'citeseer'),\n",
    "    todf(miniseer, 'miniseer'),\n",
    "    todf(microseer, 'microseer')])\n",
    "sns.set_theme(style=\"darkgrid\", palette=sns.color_palette(['#b3cde3', '#8c96c6', '#88419d']))\n",
    "%matplotlib widget\n",
    "fig, ax = plt.subplots()\n",
    "index = data['topic'].value_counts().index\n",
    "sns.countplot(data, x='topic', hue='dataset', order=index)"
   ]
  },
  {
   "cell_type": "code",
   "execution_count": 113,
   "metadata": {},
   "outputs": [
    {
     "data": {
      "text/plain": [
       "(0.0, 30.0)"
      ]
     },
     "execution_count": 113,
     "metadata": {},
     "output_type": "execute_result"
    },
    {
     "data": {
      "application/vnd.jupyter.widget-view+json": {
       "model_id": "0c62757c50bf4ce9bf93599e31ffcba2",
       "version_major": 2,
       "version_minor": 0
      },
      "image/png": "[encoded data removed]",
      "text/html": [
       "\n",
       "            <div style=\"display: inline-block;\">\n",
       "                <div class=\"jupyter-widgets widget-label\" style=\"text-align: center;\">\n",
       "                    Figure\n",
       "                </div>\n",
       "                <img src='data:image/png;base64,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' width=1500.0/>\n",
       "            </div>\n",
       "        "
      ],
      "text/plain": [
       "Canvas(toolbar=Toolbar(toolitems=[('Home', 'Reset original view', 'home', 'home'), ('Back', 'Back to previous …"
      ]
     },
     "metadata": {},
     "output_type": "display_data"
    }
   ],
   "source": [
    "citeseer_df = todf(papers, 'citeseer')\n",
    "fig, (ax1, ax2) = plt.subplots(1, 2, figsize=(15, 5))\n",
    "sns.set_theme(style=\"darkgrid\", palette=sns.color_palette(['#8dd3c7', '#bebada', '#fb8072', '#80b1d3', '#fdb462', '#b3de69']))\n",
    "sns.histplot(\n",
    "    citeseer_df, x='citations', hue='topic', ax=ax1,\n",
    "    discrete=True,\n",
    "    multiple='stack',\n",
    "    # multiple='dodge',\n",
    "    # log_scale=True,\n",
    ")\n",
    "# ax.set_xscale('log')\n",
    "ax1.set_xlim(-1, 6)\n",
    "sns.histplot(\n",
    "    citeseer_df, x='citations', hue='topic', ax=ax2,\n",
    "    discrete=True,\n",
    "    multiple='stack',\n",
    "    # multiple='dodge',\n",
    "    # log_scale=True,\n",
    ")\n",
    "ax2.set_xlim(4, 100)\n",
    "ax2.set_ylim(0, 30)"
   ]
  },
  {
   "cell_type": "markdown",
   "metadata": {},
   "source": [
    "# BIteSEER"
   ]
  },
  {
   "cell_type": "code",
   "execution_count": 114,
   "metadata": {},
   "outputs": [],
   "source": [
    "# def split_papers_by_labels(papers: dict, splits=None):\n",
    "#     \"\"\"Ensure a certain number of papers per label.\"\"\"\n",
    "#     # TODO: WIP\n",
    "#     labels = set(paper.label for paper in papers.values())\n",
    "#     by_label = {  # split dataset into groups of papers with the same label\n",
    "#         label: [paper.idx for paper in papers.values() if paper.label == label]\n",
    "#         for label in labels\n",
    "#     }\n",
    "#     if splits is None and labels:\n",
    "#         splits = [1 / len(labels)] * len(labels)\n",
    "#     if not isinstance(splits, dict):\n",
    "#         splits = dict(zip(labels, splits))\n",
    "#     if sum(splits.values()) <= 1:\n",
    "#         splits = {k: int(v * )}\n",
    "\n",
    "#     new = {}\n",
    "#     for label, idxs in by_label.items():\n",
    "#         new[label]\n"
   ]
  },
  {
   "cell_type": "code",
   "execution_count": 115,
   "metadata": {},
   "outputs": [],
   "source": [
    "papers = copy.deepcopy(all_papers)\n",
    "combos = list(it.combinations(labels, 2))\n",
    "# print([' vs. '.join(pair) for pair in combos])\n"
   ]
  },
  {
   "cell_type": "code",
   "execution_count": 116,
   "metadata": {},
   "outputs": [
    {
     "data": {
      "application/vnd.microsoft.datawrangler.viewer.v0+json": {
       "columns": [
        {
         "name": "index",
         "rawType": "object",
         "type": "string"
        },
        {
         "name": "A",
         "rawType": "int64",
         "type": "integer"
        },
        {
         "name": "B",
         "rawType": "int64",
         "type": "integer"
        },
        {
         "name": "Papers",
         "rawType": "int64",
         "type": "integer"
        },
        {
         "name": "Citations",
         "rawType": "int64",
         "type": "integer"
        },
        {
         "name": "Topics",
         "rawType": "int64",
         "type": "integer"
        },
        {
         "name": "Neurons",
         "rawType": "int64",
         "type": "integer"
        },
        {
         "name": "Synapses",
         "rawType": "int64",
         "type": "integer"
        },
        {
         "name": "Train",
         "rawType": "int64",
         "type": "integer"
        },
        {
         "name": "Test",
         "rawType": "int64",
         "type": "integer"
        }
       ],
       "conversionMethod": "pd.DataFrame",
       "ref": "a8c6b4aa-50fd-4b04-99ad-b3a76c9e6624",
       "rows": [
        [
         "IR vs. DB",
         "49",
         "39",
         "88",
         "12",
         "2",
         "90",
         "340",
         "18",
         "70"
        ],
        [
         "IR vs. HCI",
         "53",
         "35",
         "88",
         "5",
         "2",
         "90",
         "326",
         "18",
         "70"
        ],
        [
         "IR vs. AI",
         "63",
         "25",
         "88",
         "8",
         "2",
         "90",
         "332",
         "18",
         "70"
        ],
        [
         "IR vs. Agents",
         "46",
         "42",
         "88",
         "5",
         "2",
         "90",
         "326",
         "18",
         "70"
        ],
        [
         "IR vs. ML",
         "48",
         "40",
         "88",
         "21",
         "2",
         "90",
         "358",
         "18",
         "70"
        ],
        [
         "DB vs. HCI",
         "53",
         "35",
         "88",
         "13",
         "2",
         "90",
         "342",
         "18",
         "70"
        ],
        [
         "DB vs. AI",
         "65",
         "23",
         "88",
         "15",
         "2",
         "90",
         "346",
         "18",
         "70"
        ],
        [
         "DB vs. Agents",
         "43",
         "45",
         "88",
         "6",
         "2",
         "90",
         "328",
         "18",
         "70"
        ],
        [
         "DB vs. ML",
         "48",
         "40",
         "88",
         "8",
         "2",
         "90",
         "332",
         "18",
         "70"
        ],
        [
         "HCI vs. AI",
         "60",
         "28",
         "88",
         "15",
         "2",
         "90",
         "346",
         "18",
         "70"
        ],
        [
         "HCI vs. Agents",
         "44",
         "44",
         "88",
         "4",
         "2",
         "90",
         "324",
         "18",
         "70"
        ],
        [
         "HCI vs. ML",
         "39",
         "49",
         "88",
         "8",
         "2",
         "90",
         "332",
         "18",
         "70"
        ],
        [
         "AI vs. Agents",
         "33",
         "55",
         "88",
         "4",
         "2",
         "90",
         "324",
         "18",
         "70"
        ],
        [
         "AI vs. ML",
         "30",
         "58",
         "88",
         "10",
         "2",
         "90",
         "336",
         "18",
         "70"
        ],
        [
         "Agents vs. ML",
         "48",
         "40",
         "88",
         "14",
         "2",
         "90",
         "344",
         "18",
         "70"
        ]
       ],
       "shape": {
        "columns": 9,
        "rows": 15
       }
      },
      "text/html": [
       "<div>\n",
       "<style scoped>\n",
       "    .dataframe tbody tr th:only-of-type {\n",
       "        vertical-align: middle;\n",
       "    }\n",
       "\n",
       "    .dataframe tbody tr th {\n",
       "        vertical-align: top;\n",
       "    }\n",
       "\n",
       "    .dataframe thead th {\n",
       "        text-align: right;\n",
       "    }\n",
       "</style>\n",
       "<table border=\"1\" class=\"dataframe\">\n",
       "  <thead>\n",
       "    <tr style=\"text-align: right;\">\n",
       "      <th></th>\n",
       "      <th>A</th>\n",
       "      <th>B</th>\n",
       "      <th>Papers</th>\n",
       "      <th>Citations</th>\n",
       "      <th>Topics</th>\n",
       "      <th>Neurons</th>\n",
       "      <th>Synapses</th>\n",
       "      <th>Train</th>\n",
       "      <th>Test</th>\n",
       "    </tr>\n",
       "  </thead>\n",
       "  <tbody>\n",
       "    <tr>\n",
       "      <th>IR vs. DB</th>\n",
       "      <td>49</td>\n",
       "      <td>39</td>\n",
       "      <td>88</td>\n",
       "      <td>12</td>\n",
       "      <td>2</td>\n",
       "      <td>90</td>\n",
       "      <td>340</td>\n",
       "      <td>18</td>\n",
       "      <td>70</td>\n",
       "    </tr>\n",
       "    <tr>\n",
       "      <th>IR vs. HCI</th>\n",
       "      <td>53</td>\n",
       "      <td>35</td>\n",
       "      <td>88</td>\n",
       "      <td>5</td>\n",
       "      <td>2</td>\n",
       "      <td>90</td>\n",
       "      <td>326</td>\n",
       "      <td>18</td>\n",
       "      <td>70</td>\n",
       "    </tr>\n",
       "    <tr>\n",
       "      <th>IR vs. AI</th>\n",
       "      <td>63</td>\n",
       "      <td>25</td>\n",
       "      <td>88</td>\n",
       "      <td>8</td>\n",
       "      <td>2</td>\n",
       "      <td>90</td>\n",
       "      <td>332</td>\n",
       "      <td>18</td>\n",
       "      <td>70</td>\n",
       "    </tr>\n",
       "    <tr>\n",
       "      <th>IR vs. Agents</th>\n",
       "      <td>46</td>\n",
       "      <td>42</td>\n",
       "      <td>88</td>\n",
       "      <td>5</td>\n",
       "      <td>2</td>\n",
       "      <td>90</td>\n",
       "      <td>326</td>\n",
       "      <td>18</td>\n",
       "      <td>70</td>\n",
       "    </tr>\n",
       "    <tr>\n",
       "      <th>IR vs. ML</th>\n",
       "      <td>48</td>\n",
       "      <td>40</td>\n",
       "      <td>88</td>\n",
       "      <td>21</td>\n",
       "      <td>2</td>\n",
       "      <td>90</td>\n",
       "      <td>358</td>\n",
       "      <td>18</td>\n",
       "      <td>70</td>\n",
       "    </tr>\n",
       "    <tr>\n",
       "      <th>DB vs. HCI</th>\n",
       "      <td>53</td>\n",
       "      <td>35</td>\n",
       "      <td>88</td>\n",
       "      <td>13</td>\n",
       "      <td>2</td>\n",
       "      <td>90</td>\n",
       "      <td>342</td>\n",
       "      <td>18</td>\n",
       "      <td>70</td>\n",
       "    </tr>\n",
       "    <tr>\n",
       "      <th>DB vs. AI</th>\n",
       "      <td>65</td>\n",
       "      <td>23</td>\n",
       "      <td>88</td>\n",
       "      <td>15</td>\n",
       "      <td>2</td>\n",
       "      <td>90</td>\n",
       "      <td>346</td>\n",
       "      <td>18</td>\n",
       "      <td>70</td>\n",
       "    </tr>\n",
       "    <tr>\n",
       "      <th>DB vs. Agents</th>\n",
       "      <td>43</td>\n",
       "      <td>45</td>\n",
       "      <td>88</td>\n",
       "      <td>6</td>\n",
       "      <td>2</td>\n",
       "      <td>90</td>\n",
       "      <td>328</td>\n",
       "      <td>18</td>\n",
       "      <td>70</td>\n",
       "    </tr>\n",
       "    <tr>\n",
       "      <th>DB vs. ML</th>\n",
       "      <td>48</td>\n",
       "      <td>40</td>\n",
       "      <td>88</td>\n",
       "      <td>8</td>\n",
       "      <td>2</td>\n",
       "      <td>90</td>\n",
       "      <td>332</td>\n",
       "      <td>18</td>\n",
       "      <td>70</td>\n",
       "    </tr>\n",
       "    <tr>\n",
       "      <th>HCI vs. AI</th>\n",
       "      <td>60</td>\n",
       "      <td>28</td>\n",
       "      <td>88</td>\n",
       "      <td>15</td>\n",
       "      <td>2</td>\n",
       "      <td>90</td>\n",
       "      <td>346</td>\n",
       "      <td>18</td>\n",
       "      <td>70</td>\n",
       "    </tr>\n",
       "    <tr>\n",
       "      <th>HCI vs. Agents</th>\n",
       "      <td>44</td>\n",
       "      <td>44</td>\n",
       "      <td>88</td>\n",
       "      <td>4</td>\n",
       "      <td>2</td>\n",
       "      <td>90</td>\n",
       "      <td>324</td>\n",
       "      <td>18</td>\n",
       "      <td>70</td>\n",
       "    </tr>\n",
       "    <tr>\n",
       "      <th>HCI vs. ML</th>\n",
       "      <td>39</td>\n",
       "      <td>49</td>\n",
       "      <td>88</td>\n",
       "      <td>8</td>\n",
       "      <td>2</td>\n",
       "      <td>90</td>\n",
       "      <td>332</td>\n",
       "      <td>18</td>\n",
       "      <td>70</td>\n",
       "    </tr>\n",
       "    <tr>\n",
       "      <th>AI vs. Agents</th>\n",
       "      <td>33</td>\n",
       "      <td>55</td>\n",
       "      <td>88</td>\n",
       "      <td>4</td>\n",
       "      <td>2</td>\n",
       "      <td>90</td>\n",
       "      <td>324</td>\n",
       "      <td>18</td>\n",
       "      <td>70</td>\n",
       "    </tr>\n",
       "    <tr>\n",
       "      <th>AI vs. ML</th>\n",
       "      <td>30</td>\n",
       "      <td>58</td>\n",
       "      <td>88</td>\n",
       "      <td>10</td>\n",
       "      <td>2</td>\n",
       "      <td>90</td>\n",
       "      <td>336</td>\n",
       "      <td>18</td>\n",
       "      <td>70</td>\n",
       "    </tr>\n",
       "    <tr>\n",
       "      <th>Agents vs. ML</th>\n",
       "      <td>48</td>\n",
       "      <td>40</td>\n",
       "      <td>88</td>\n",
       "      <td>14</td>\n",
       "      <td>2</td>\n",
       "      <td>90</td>\n",
       "      <td>344</td>\n",
       "      <td>18</td>\n",
       "      <td>70</td>\n",
       "    </tr>\n",
       "  </tbody>\n",
       "</table>\n",
       "</div>"
      ],
      "text/plain": [
       "                 A   B  Papers  Citations  Topics  Neurons  Synapses  Train  \\\n",
       "IR vs. DB       49  39      88         12       2       90       340     18   \n",
       "IR vs. HCI      53  35      88          5       2       90       326     18   \n",
       "IR vs. AI       63  25      88          8       2       90       332     18   \n",
       "IR vs. Agents   46  42      88          5       2       90       326     18   \n",
       "IR vs. ML       48  40      88         21       2       90       358     18   \n",
       "DB vs. HCI      53  35      88         13       2       90       342     18   \n",
       "DB vs. AI       65  23      88         15       2       90       346     18   \n",
       "DB vs. Agents   43  45      88          6       2       90       328     18   \n",
       "DB vs. ML       48  40      88          8       2       90       332     18   \n",
       "HCI vs. AI      60  28      88         15       2       90       346     18   \n",
       "HCI vs. Agents  44  44      88          4       2       90       324     18   \n",
       "HCI vs. ML      39  49      88          8       2       90       332     18   \n",
       "AI vs. Agents   33  55      88          4       2       90       324     18   \n",
       "AI vs. ML       30  58      88         10       2       90       336     18   \n",
       "Agents vs. ML   48  40      88         14       2       90       344     18   \n",
       "\n",
       "                Test  \n",
       "IR vs. DB         70  \n",
       "IR vs. HCI        70  \n",
       "IR vs. AI         70  \n",
       "IR vs. Agents     70  \n",
       "IR vs. ML         70  \n",
       "DB vs. HCI        70  \n",
       "DB vs. AI         70  \n",
       "DB vs. Agents     70  \n",
       "DB vs. ML         70  \n",
       "HCI vs. AI        70  \n",
       "HCI vs. Agents    70  \n",
       "HCI vs. ML        70  \n",
       "AI vs. Agents     70  \n",
       "AI vs. ML         70  \n",
       "Agents vs. ML     70  "
      ]
     },
     "execution_count": 116,
     "metadata": {},
     "output_type": "execute_result"
    }
   ],
   "source": [
    "\n",
    "bites = {}\n",
    "\n",
    "for combo in combos:\n",
    "    new_idxs = [paper.idx for paper in papers.values() if paper.label in combo]\n",
    "    _train_idxs, new_idxs = train_test_split_indices(new_idxs, test_size=88, rng=seed)\n",
    "    bite, removed = rebuild(papers, new_idxs)\n",
    "    new_train_idxs, new_test_idxs = train_test_split_indices(bite, test_size=0.8, rng=seed)\n",
    "    # how_many(bite, new_train_idxs)\n",
    "\n",
    "    bites[' vs. '.join(combo)] = (bite, new_train_idxs, new_test_idxs)\n",
    "\n",
    "\n",
    "categories = pd.DataFrame({k: pd.Series(topics_counts(v[0], k)) for k, v in bites.items()}).T\n",
    "cols = ['Papers', 'Citations', 'Topics', 'Neurons', 'Synapses', 'Train', 'Test']\n",
    "stats = pd.DataFrame(columns=cols)\n",
    "for key, (dataset, train_idxs, test_idxs) in bites.items():\n",
    "    n_papers, n_citations, n_topics, neurons, synapses, n_train, n_test = how_many(dataset, train_idxs, do_print=False)\n",
    "    stats.loc[key] = pd.Series([n_papers, n_citations, n_topics, neurons, synapses, n_train, n_test], index=cols)\n",
    "\n",
    "pd.concat([categories, stats], axis=1)\n",
    "# pd.concat([categories, pd.Series({'C': 999, 'D': 0}, name='ML vs. DB')], axis=1)\n",
    "# categories"
   ]
  },
  {
   "cell_type": "code",
   "execution_count": 117,
   "metadata": {},
   "outputs": [
    {
     "name": "stdout",
     "output_type": "stream",
     "text": [
      "[1459, 20, 18, 12, 12, 11, 11, 10, 10, 10, 8, 8, 8, 8, 7, 7, 6, 5, 5, 4, 4, 4, 4, 4, 4, 3, 3, 3, 3, 3, 3, 3, 3, 3, 3, 3, 3, 3, 3, 3, 3, 3, 3, 3, 2, 2, 2, 2, 2, 2, 2, 2, 2, 2, 2, 2, 2, 2, 2, 2, 2, 2, 2, 2, 2, 2, 2, 2, 2, 2, 2, 2, 2, 2, 2, 2, 2, 2, 2, 2, 2, 2, 1, 1, 1, 1, 1, 1, 1, 1, 1, 1, 1, 1, 1, 1, 1, 1, 1, 1, 1, 1, 1, 1, 1, 1, 1, 1, 1, 1, 1, 1, 1, 1, 1, 1, 1, 1, 1, 1, 1, 1, 1, 1, 1, 1, 1, 1, 1, 1, 1, 1, 1, 1, 1, 1, 1, 1, 1, 1, 1, 1, 1, 1, 1, 1, 1, 1, 1, 1, 1, 1, 1, 1, 1, 1, 1, 1, 1, 1, 1, 1, 1, 1, 1, 1, 1, 1, 1, 1, 1, 1, 1, 1, 1, 1, 1, 1, 1, 1, 1, 1, 1, 1, 1, 1, 1, 1, 1, 1, 1, 1, 1, 1, 1, 1, 1, 1, 1, 1, 1, 1, 1, 1, 1, 1, 1, 1, 1, 1, 1, 1, 1, 1, 1, 1, 1, 1, 1, 1, 1, 1, 1, 1, 1, 1, 1, 1, 1, 1, 1, 1, 1, 1, 1, 1, 1, 1, 1, 1, 1, 1, 1, 1, 1, 1, 1, 1, 1, 1, 1, 1, 1, 1, 1, 1, 1, 1, 1, 1, 1, 1, 1, 1, 1, 1, 1, 1, 1, 1, 1, 1, 1, 1, 1, 1, 1, 1, 1, 1, 1, 1, 1, 1, 1, 1, 1, 1, 1, 1, 1, 1, 1, 1, 1, 1, 1, 1, 1, 1, 1, 1, 1, 1, 1, 1, 1, 1, 1, 1, 1, 1, 1, 1, 1, 1, 1, 1, 1, 1, 1, 1, 1, 1, 1, 1, 1, 1, 1, 1, 1, 1, 1, 1, 1, 1, 1, 1, 1, 1, 1, 1, 1, 1, 1, 1, 1, 1, 1, 1, 1, 1, 1, 1, 1, 1, 1, 1, 1, 1, 1, 1, 1, 1, 1, 1, 1, 1, 1, 1, 1, 1, 1, 1, 1, 1, 1, 1, 1, 1, 1, 1, 1, 1, 1, 1, 1, 1, 1, 1, 1, 1, 1, 1, 1, 1, 1, 1, 1, 1]\n",
      "Found 400 components, the largest has 1459 papers\n"
     ]
    }
   ],
   "source": [
    "miniseer, removed = rebuild(papers, largest)\n",
    "components = sorted(components_undirected(miniseer), key=len, reverse=True)\n",
    "largest = components[0]\n",
    "\n",
    "print([len(c) for c in components])\n",
    "print(f\"Found {len(components)} components, the largest has {len(largest)} papers\")"
   ]
  }
 ],
 "metadata": {
  "kernelspec": {
   "display_name": "sngnn",
   "language": "python",
   "name": "python3"
  },
  "language_info": {
   "codemirror_mode": {
    "name": "ipython",
    "version": 3
   },
   "file_extension": ".py",
   "mimetype": "text/x-python",
   "name": "python",
   "nbconvert_exporter": "python",
   "pygments_lexer": "ipython3",
   "version": "3.12.2"
  }
 },
 "nbformat": 4,
 "nbformat_minor": 2
}
