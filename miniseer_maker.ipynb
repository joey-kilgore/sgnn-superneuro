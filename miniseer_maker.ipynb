{
 "cells": [
  {
   "cell_type": "code",
   "execution_count": 9,
   "metadata": {},
   "outputs": [],
   "source": [
    "import numpy as np\n",
    "import pandas as pd\n",
    "import pathlib as pl\n",
    "from dataclasses import dataclass, field\n",
    "\n",
    "def train_test_split_indices(papers, test_size=0.2, rng=None) -> tuple[np.ndarray[int], np.ndarray[int]]:\n",
    "    \"\"\"\n",
    "    Splits a list of papers into train and test indices.\n",
    "\n",
    "    Parameters\n",
    "    ----------\n",
    "    papers : iterable of papers with ids\n",
    "        List or dict of papers to split.\n",
    "    test_size : float, optional\n",
    "        if < 1, proportion of papers to reserve for testing, by default 0.2\n",
    "        if > 1, number of papers to reserve for testing\n",
    "    rng : int, optional\n",
    "        Random state for the random number generator, default uses numpy's random\n",
    "\n",
    "    Returns\n",
    "    -------\n",
    "    train_indices : list of int\n",
    "        List of indices for the training set.\n",
    "    test_indices : list of int\n",
    "        List of indices for the testing set.\n",
    "    \"\"\"\n",
    "    n = papers if isinstance(papers, int) else len(papers)\n",
    "    if test_size < 1:\n",
    "        test_size = int(np.floor(test_size * n))  # number of papers in test\n",
    "    if rng is None:\n",
    "        rng = np.random.default_rng()  # setup rng\n",
    "    elif isinstance(rng, int):\n",
    "        rng = np.random.default_rng(rng)\n",
    "\n",
    "    if isinstance(papers, int):\n",
    "        indices = np.arange(n)  # generate indices\n",
    "    elif isinstance(papers, dict):\n",
    "        indices = [paper.idx for paper in papers.values()]  # grab indices from dict entries\n",
    "    else:  # assume papers is a dict or mapping of papers with a .values() method\n",
    "        indices = papers  # assume papers is a list of indices\n",
    "    indices = np.asarray(indices)\n",
    "\n",
    "    # shuffle and split\n",
    "    rng.shuffle(indices)\n",
    "    test_indices = indices[:test_size]\n",
    "    train_indices = indices[test_size:]\n",
    "    return train_indices, test_indices"
   ]
  },
  {
   "cell_type": "code",
   "execution_count": 10,
   "metadata": {},
   "outputs": [
    {
     "name": "stdout",
     "output_type": "stream",
     "text": [
      "Loaded 3312 papers and skipped 15 broken references.\n"
     ]
    },
    {
     "data": {
      "text/plain": [
       "{'AI', 'Agents', 'DB', 'HCI', 'IR', 'ML'}"
      ]
     },
     "execution_count": 10,
     "metadata": {},
     "output_type": "execute_result"
    }
   ],
   "source": [
    "@dataclass\n",
    "class Paper:\n",
    "    idx: str  # Paper ID\n",
    "    label: str  # Paper category/topic\n",
    "    features: tuple[bool, ...] = ()  # binary features\n",
    "    citations: list[str] = field(default_factory=list)  # IDs of papers cited by this paper\n",
    "\n",
    "\n",
    "papers = {}\n",
    "missing = set()\n",
    "\n",
    "# Load in training data\n",
    "content = pd.read_csv(\"data/citeseer/citeseer.content\", sep=\"\\t\", header=None, dtype=object)\n",
    "citations = pd.read_csv(\"data/citeseer/citeseer.cites\", sep=\"\\t\", header=None, dtype=object)\n",
    "\n",
    "labels = set()  # set of unique labels\n",
    "\n",
    "for paper in content.itertuples(index=False):  # create papers from data\n",
    "    idx = paper[0]\n",
    "    features = tuple([int(feature) for feature in paper[1:-1]])  # parse features\n",
    "    papers[idx] = Paper(idx, paper[-1], features)  # create paper object\n",
    "    labels.add(paper[-1])  # label is the last column. add to set of labels\n",
    "\n",
    "for paper_idx, citation in citations.itertuples(index=False):\n",
    "    try:  # parse citations\n",
    "        if citation not in papers:\n",
    "            missing.add(citation)  # if citation is missing, add to missing list\n",
    "            continue\n",
    "        papers[paper_idx].citations.append(citation)\n",
    "    except KeyError:\n",
    "        missing.add(paper_idx)  # if paper is missing, add to missing list\n",
    "\n",
    "print(f\"Loaded {len(papers)} papers and skipped {len(missing)} broken references.\")\n",
    "\n",
    "labels  # show labels set"
   ]
  },
  {
   "cell_type": "code",
   "execution_count": 11,
   "metadata": {},
   "outputs": [],
   "source": [
    "def components_undirected(papers):\n",
    "\n",
    "    components = []\n",
    "\n",
    "    for idx, paper in papers.items():\n",
    "        new_component = {idx}  # new set\n",
    "        new_component.update(paper.citations)  # add its citations\n",
    "        matching_sets = [c for c in components if c & new_component]  # find existing components with overlap\n",
    "        new_component = new_component.union(*matching_sets)  # merge overlapping components\n",
    "        for s in matching_sets:  # remove any old overlapping components\n",
    "            components.remove(s)\n",
    "        components.append(new_component)  # add our new component\n",
    "\n",
    "    return components"
   ]
  },
  {
   "cell_type": "code",
   "execution_count": 12,
   "metadata": {},
   "outputs": [
    {
     "name": "stdout",
     "output_type": "stream",
     "text": [
      "[2110, 18, 17, 15, 13, 12, 12, 11, 10, 10, 9, 9, 9, 9, 9, 8, 8, 8, 8, 7, 7, 7, 7, 7, 6, 6, 6, 6, 6, 6, 6, 5, 5, 5, 5, 5, 5, 5, 5, 5, 5, 4, 4, 4, 4, 4, 4, 4, 4, 4, 4, 4, 4, 4, 4, 4, 4, 4, 4, 4, 4, 4, 4, 4, 4, 4, 4, 4, 4, 4, 4, 4, 4, 4, 4, 4, 4, 4, 3, 3, 3, 3, 3, 3, 3, 3, 3, 3, 3, 3, 3, 3, 3, 3, 3, 3, 3, 3, 3, 3, 3, 3, 3, 3, 3, 3, 3, 3, 3, 3, 3, 3, 3, 3, 3, 3, 3, 3, 3, 3, 3, 3, 3, 3, 3, 3, 3, 3, 3, 3, 3, 3, 3, 3, 3, 3, 3, 3, 2, 2, 2, 2, 2, 2, 2, 2, 2, 2, 2, 2, 2, 2, 2, 2, 2, 2, 2, 2, 2, 2, 2, 2, 2, 2, 2, 2, 2, 2, 2, 2, 2, 2, 2, 2, 2, 2, 2, 2, 2, 2, 2, 2, 2, 2, 2, 2, 2, 2, 2, 2, 2, 2, 2, 2, 2, 2, 2, 2, 2, 2, 2, 2, 2, 2, 2, 2, 2, 2, 2, 2, 2, 2, 2, 2, 2, 2, 2, 2, 2, 2, 2, 2, 2, 2, 2, 2, 2, 2, 2, 2, 2, 2, 2, 2, 2, 2, 2, 2, 2, 2, 2, 2, 2, 2, 2, 2, 2, 2, 2, 2, 2, 2, 2, 2, 2, 2, 2, 2, 2, 2, 2, 2, 2, 2, 2, 2, 2, 2, 2, 2, 2, 2, 2, 2, 2, 2, 2, 2, 2, 2, 2, 2, 2, 2, 2, 2, 2, 2, 2, 2, 2, 2, 2, 2, 2, 2, 2, 2, 2, 2, 2, 2, 2, 2, 2, 2, 2, 2, 2, 2, 2, 2, 2, 2, 2, 2, 2, 2, 2, 2, 2, 2, 2, 2, 2, 2, 2, 2, 2, 2, 2, 2, 2, 2, 2, 2, 2, 2, 2, 2, 2, 2, 2, 2, 2, 2, 2, 2, 2, 2, 2, 2, 2, 2, 2, 2, 2, 2, 2, 2, 2, 2, 2, 2, 2, 2, 2, 2, 2, 2, 2, 2, 2, 2, 2, 2, 2, 2, 2, 2, 2, 2, 2, 2, 2, 2, 2, 2, 2, 2, 1, 1, 1, 1, 1, 1, 1, 1, 1, 1, 1, 1, 1, 1, 1, 1, 1, 1, 1, 1, 1, 1, 1, 1, 1, 1, 1, 1, 1, 1, 1, 1, 1, 1, 1, 1, 1, 1, 1, 1, 1, 1, 1, 1, 1, 1, 1, 1]\n",
      "Found 438 components, the largest has 2110 papers\n"
     ]
    }
   ],
   "source": [
    "components = sorted(components_undirected(papers), key=len, reverse=True)\n",
    "largest = components[0]\n",
    "\n",
    "print([len(c) for c in components])\n",
    "print(f\"Found {len(components)} components, the largest has {len(largest)} papers\")"
   ]
  },
  {
   "cell_type": "code",
   "execution_count": 13,
   "metadata": {},
   "outputs": [],
   "source": [
    "def writeout(papers, path_stem, train_idxs=None, test_idxs=None, metadata=''):\n",
    "    path = pl.Path(path_stem)\n",
    "    if path.is_dir():\n",
    "        raise ValueError(f\"{path} is a directory\")\n",
    "    path.parent.mkdir(parents=True, exist_ok=True)\n",
    "    with open(path.with_suffix('.content'), 'w') as f:\n",
    "        for paper in papers.values():\n",
    "            features = [str(int(feature)) for feature in paper.features]\n",
    "            features = '\\t'.join(features)\n",
    "            f.write(f\"{paper.idx:s}\\t{features}\\t{paper.label:s}\\n\")\n",
    "    with open(path.with_suffix('.cites'), 'w') as f:\n",
    "        for paper in papers.values():\n",
    "            for cite in paper.citations:\n",
    "                f.write(f\"{paper.idx:s}\\t{cite:s}\\n\")\n",
    "    if train_idxs is not None and test_idxs is not None:\n",
    "        train_idxs = [str(idx) for idx in train_idxs]\n",
    "        test_idxs = [str(idx) for idx in test_idxs]\n",
    "        with open(path.with_suffix('.indices'), 'w') as f:\n",
    "            f.write(f\"training_indices {len(train_idxs)} \\\\n test_indices {len(test_idxs)}\\t{metadata}\\n\")\n",
    "            f.write(', '.join(train_idxs))\n",
    "            f.write('\\n' + ', '.join(test_idxs))\n"
   ]
  },
  {
   "cell_type": "code",
   "execution_count": 14,
   "metadata": {},
   "outputs": [],
   "source": [
    "def remove_broken_citations(papers):\n",
    "    removed = set()\n",
    "    for paper in papers.values():\n",
    "        for citation in paper.citations:\n",
    "            if citation not in papers:\n",
    "                removed.add(citation)\n",
    "                paper.citations.remove(citation)\n",
    "    return removed\n",
    "\n",
    "\n",
    "def rebuild(papers, ids):\n",
    "    new_papers = {k: v for k, v in papers.items() if k in ids}\n",
    "    removed_citations = remove_broken_citations(new_papers)\n",
    "    return new_papers, removed_citations"
   ]
  },
  {
   "cell_type": "code",
   "execution_count": 15,
   "metadata": {},
   "outputs": [],
   "source": [
    "seed = 2025\n",
    "\n",
    "train_idxs, test_idxs = train_test_split_indices(papers, test_size=0.8, rng=seed)\n",
    "\n",
    "miniseer, removed = rebuild(papers, largest)\n",
    "assert not removed\n",
    "m_train_idxs, m_test_idxs = train_test_split_indices(miniseer, test_size=0.8, rng=seed)\n",
    "writeout(miniseer, 'data/miniseer/miniseer', m_train_idxs, m_test_idxs, f\"seed: {seed}\")\n",
    "\n",
    "_train_idxs, microseer_idxs = train_test_split_indices(miniseer, test_size=87, rng=seed)\n",
    "u_train_idxs, u_test_idxs = train_test_split_indices(microseer_idxs, test_size=0.8, rng=seed)\n",
    "microseer, removed = rebuild(papers, microseer_idxs)\n",
    "writeout(microseer, 'data/microseer/microseer', u_train_idxs, u_test_idxs, f\"seed: {seed}\")"
   ]
  },
  {
   "cell_type": "code",
   "execution_count": 16,
   "metadata": {},
   "outputs": [
    {
     "name": "stdout",
     "output_type": "stream",
     "text": [
      "Original dataset:\n",
      "Papers: 3312, Citations: 4643, Topics: 6\n",
      "NEST-like implementation will use 3318 neurons, 25180 synapses\n",
      "Train: 663, Test: 2649 (0.20:0.80)\n",
      "\n",
      "Miniseer:\n",
      "Papers: 2110, Citations: 3685, Topics: 6\n",
      "NEST-like implementation will use 2116 neurons, 17498 synapses\n",
      "Train: 422, Test: 1688 (0.20:0.80)\n",
      "\n",
      "Microseer:\n",
      "Papers: 87, Citations: 42, Topics: 6\n",
      "NEST-like implementation will use 93 neurons, 498 synapses\n",
      "Train: 18, Test: 69 (0.21:0.79)\n"
     ]
    }
   ],
   "source": [
    "def how_many(papers, train_idxs=None):\n",
    "    n_papers = len(papers)\n",
    "    n_citations = sum([len(paper.citations) for paper in papers.values()])\n",
    "    n_topics = len(labels)\n",
    "    print(f\"Papers: {n_papers}, Citations: {n_citations}, Topics: {n_topics}\")\n",
    "    if train_idxs is None:\n",
    "        print(f\"NEST-like implementation will use {n_papers + n_topics} neurons\")\n",
    "    else:\n",
    "        n_train, n_test = len(train_idxs), n_papers - len(train_idxs)\n",
    "        print(f\"NEST-like implementation will use {n_papers + n_topics} neurons, {n_citations * 2 + n_test * n_topics} synapses\")  # TODO: Check this\n",
    "        # print(f\"K implementation will use {n_papers + n_topics} neurons, {n_citations + n_papers} synapses\")\n",
    "        print(f\"Train: {n_train}, Test: {n_test} ({n_train / n_papers:.2f}:{n_test / n_papers:.2f})\")\n",
    "\n",
    "print(\"Original dataset:\")\n",
    "how_many(papers, train_idxs)\n",
    "print(\"\\nMiniseer:\")\n",
    "how_many(miniseer, m_train_idxs)\n",
    "print(\"\\nMicroseer:\")\n",
    "how_many(microseer, u_train_idxs)"
   ]
  }
 ],
 "metadata": {
  "kernelspec": {
   "display_name": "sngnn",
   "language": "python",
   "name": "python3"
  },
  "language_info": {
   "codemirror_mode": {
    "name": "ipython",
    "version": 3
   },
   "file_extension": ".py",
   "mimetype": "text/x-python",
   "name": "python",
   "nbconvert_exporter": "python",
   "pygments_lexer": "ipython3",
   "version": "3.12.2"
  }
 },
 "nbformat": 4,
 "nbformat_minor": 2
}
